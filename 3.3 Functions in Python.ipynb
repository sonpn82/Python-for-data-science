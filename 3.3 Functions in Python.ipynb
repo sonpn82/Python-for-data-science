{
 "metadata": {
  "language_info": {
   "codemirror_mode": {
    "name": "ipython",
    "version": 3
   },
   "file_extension": ".py",
   "mimetype": "text/x-python",
   "name": "python",
   "nbconvert_exporter": "python",
   "pygments_lexer": "ipython3",
   "version": "3.6.6"
  },
  "orig_nbformat": 4,
  "kernelspec": {
   "name": "python3",
   "display_name": "Python 3.6.6 64-bit"
  },
  "interpreter": {
   "hash": "2e5c6628eef985e7fd2fa2aad22c988c5b8aa1d2648cf9c51c543a2a2637c546"
  }
 },
 "nbformat": 4,
 "nbformat_minor": 2,
 "cells": [
  {
   "source": [
    "# IBM Developer Skills Network"
   ],
   "cell_type": "markdown",
   "metadata": {}
  },
  {
   "source": [
    "## Functions in Python"
   ],
   "cell_type": "markdown",
   "metadata": {}
  },
  {
   "cell_type": "code",
   "execution_count": 1,
   "metadata": {},
   "outputs": [],
   "source": [
    "# 1st function\n",
    "def add(a):\n",
    "    b = a + 1\n",
    "    return(b)"
   ]
  },
  {
   "cell_type": "code",
   "execution_count": 3,
   "metadata": {},
   "outputs": [
    {
     "output_type": "execute_result",
     "data": {
      "text/plain": [
       "2"
      ]
     },
     "metadata": {},
     "execution_count": 3
    }
   ],
   "source": [
    "x = 1\n",
    "y = add(x)\n",
    "y"
   ]
  },
  {
   "cell_type": "code",
   "execution_count": 4,
   "metadata": {},
   "outputs": [],
   "source": [
    "def mul(a,b):\n",
    "    c = a*b\n",
    "    return c"
   ]
  },
  {
   "cell_type": "code",
   "execution_count": 5,
   "metadata": {},
   "outputs": [
    {
     "output_type": "execute_result",
     "data": {
      "text/plain": [
       "'MCMC'"
      ]
     },
     "metadata": {},
     "execution_count": 5
    }
   ],
   "source": [
    "x = 'MC'\n",
    "y = 2\n",
    "z = mul(x, y)\n",
    "z"
   ]
  },
  {
   "source": [
    "## Local variables"
   ],
   "cell_type": "markdown",
   "metadata": {}
  },
  {
   "cell_type": "code",
   "execution_count": 6,
   "metadata": {},
   "outputs": [],
   "source": [
    "def square(a):\n",
    "    b = 1  # b is local variable\n",
    "    c = a * a + b\n",
    "    return (c)"
   ]
  },
  {
   "source": [
    "## Global variable"
   ],
   "cell_type": "markdown",
   "metadata": {}
  },
  {
   "cell_type": "code",
   "execution_count": 7,
   "metadata": {},
   "outputs": [
    {
     "output_type": "execute_result",
     "data": {
      "text/plain": [
       "10"
      ]
     },
     "metadata": {},
     "execution_count": 7
    }
   ],
   "source": [
    "x = 3 # global variable\n",
    "y = square(x)\n",
    "y"
   ]
  },
  {
   "cell_type": "code",
   "execution_count": 8,
   "metadata": {},
   "outputs": [],
   "source": [
    "## No return function\n",
    "def MJ():\n",
    "    print('Michael Jackson')\n",
    "    # not return anything"
   ]
  },
  {
   "cell_type": "code",
   "execution_count": 10,
   "metadata": {},
   "outputs": [
    {
     "output_type": "stream",
     "name": "stdout",
     "text": [
      "Michael Jackson\n"
     ]
    }
   ],
   "source": [
    "MJ()"
   ]
  },
  {
   "cell_type": "code",
   "execution_count": 11,
   "metadata": {},
   "outputs": [
    {
     "output_type": "stream",
     "name": "stdout",
     "text": [
      "Michael Jackson\nNone\n"
     ]
    }
   ],
   "source": [
    "print(MJ())"
   ]
  },
  {
   "source": [
    "## More functions"
   ],
   "cell_type": "markdown",
   "metadata": {}
  },
  {
   "cell_type": "code",
   "execution_count": 14,
   "metadata": {},
   "outputs": [],
   "source": [
    "def equation(a, b):\n",
    "    c = a**a+b**b + 2*a*b\n",
    "    if (c>100):\n",
    "        c=100\n",
    "    return c        "
   ]
  },
  {
   "cell_type": "code",
   "execution_count": 15,
   "metadata": {},
   "outputs": [
    {
     "output_type": "execute_result",
     "data": {
      "text/plain": [
       "100"
      ]
     },
     "metadata": {},
     "execution_count": 15
    }
   ],
   "source": [
    "x = equation(5, 6)\n",
    "x"
   ]
  },
  {
   "source": [
    "## Pre-defined function"
   ],
   "cell_type": "markdown",
   "metadata": {}
  },
  {
   "cell_type": "code",
   "execution_count": 16,
   "metadata": {},
   "outputs": [
    {
     "output_type": "stream",
     "name": "stdout",
     "text": [
      "1\n"
     ]
    }
   ],
   "source": [
    "# Print\n",
    "print(1)"
   ]
  },
  {
   "cell_type": "code",
   "execution_count": 17,
   "metadata": {},
   "outputs": [
    {
     "output_type": "execute_result",
     "data": {
      "text/plain": [
       "3"
      ]
     },
     "metadata": {},
     "execution_count": 17
    }
   ],
   "source": [
    "# Len\n",
    "len([1, 2, 3])"
   ]
  },
  {
   "cell_type": "code",
   "execution_count": 19,
   "metadata": {},
   "outputs": [
    {
     "output_type": "execute_result",
     "data": {
      "text/plain": [
       "9"
      ]
     },
     "metadata": {},
     "execution_count": 19
    }
   ],
   "source": [
    "# Sum\n",
    "sum([2,3,4])"
   ]
  },
  {
   "source": [
    "## Set default value in function"
   ],
   "cell_type": "markdown",
   "metadata": {}
  },
  {
   "cell_type": "code",
   "execution_count": 20,
   "metadata": {},
   "outputs": [],
   "source": [
    "def isGoodRating(rating=4):\n",
    "    # default value is 4\n",
    "    if (rating < 7):\n",
    "        print('Bad film')\n",
    "    else:\n",
    "        print('Good film')"
   ]
  },
  {
   "cell_type": "code",
   "execution_count": 23,
   "metadata": {},
   "outputs": [
    {
     "output_type": "stream",
     "name": "stdout",
     "text": [
      "Good film\n"
     ]
    }
   ],
   "source": [
    "isGoodRating(8)"
   ]
  },
  {
   "cell_type": "code",
   "execution_count": 22,
   "metadata": {},
   "outputs": [
    {
     "output_type": "stream",
     "name": "stdout",
     "text": [
      "Bad film\n"
     ]
    }
   ],
   "source": [
    "isGoodRating()  # use default value"
   ]
  },
  {
   "source": [
    "## Global variable in function"
   ],
   "cell_type": "markdown",
   "metadata": {}
  },
  {
   "cell_type": "code",
   "execution_count": 24,
   "metadata": {},
   "outputs": [
    {
     "output_type": "stream",
     "name": "stdout",
     "text": [
      "artist is MC\nartist is WH\n"
     ]
    }
   ],
   "source": [
    "artist = 'MC'\n",
    "\n",
    "def printer(artist):\n",
    "    global internal_var  # set global scope\n",
    "    internal_var = 'WH'\n",
    "    print('artist is', artist)\n",
    "\n",
    "printer(artist)\n",
    "printer(internal_var)"
   ]
  },
  {
   "source": [
    "## Global and local variable in function"
   ],
   "cell_type": "markdown",
   "metadata": {}
  },
  {
   "cell_type": "code",
   "execution_count": 25,
   "metadata": {},
   "outputs": [
    {
     "output_type": "stream",
     "name": "stdout",
     "text": [
      "3\n1\n"
     ]
    }
   ],
   "source": [
    "a = 1\n",
    "\n",
    "def add(a):\n",
    "    a=a+2    # a is local variable here\n",
    "    print(a)\n",
    "\n",
    "add(1)\n",
    "print(a) # this 'a' is global variable"
   ]
  },
  {
   "source": [
    "## Collections and Functions"
   ],
   "cell_type": "markdown",
   "metadata": {}
  },
  {
   "cell_type": "code",
   "execution_count": 26,
   "metadata": {},
   "outputs": [
    {
     "output_type": "stream",
     "name": "stdout",
     "text": [
      "No of arguments: 4\na1\n5\n300\n[1, 2, 3]\n"
     ]
    }
   ],
   "source": [
    "# When the number of arguments are unknown, they can be packed into a tuple\n",
    "def printAll(*args):\n",
    "    print('No of arguments:', len(args))\n",
    "    for ar in args:\n",
    "        print(ar)\n",
    "\n",
    "printAll('a1', 5, '300',[1,2,3])"
   ]
  },
  {
   "cell_type": "code",
   "execution_count": 27,
   "metadata": {},
   "outputs": [
    {
     "output_type": "stream",
     "name": "stdout",
     "text": [
      "country : Canada\nprovince : Ontario\ncity : toronto\n"
     ]
    }
   ],
   "source": [
    "# Arguments can also be packed into a dictionary\n",
    "def printDic(**arg):\n",
    "    for key in arg:\n",
    "        print(key + \" : \" + arg[key])\n",
    "\n",
    "printDic(country='Canada',province='Ontario',city='toronto')"
   ]
  },
  {
   "source": [
    "## Function as an argument or high order function"
   ],
   "cell_type": "markdown",
   "metadata": {}
  },
  {
   "cell_type": "code",
   "execution_count": 28,
   "metadata": {},
   "outputs": [
    {
     "output_type": "execute_result",
     "data": {
      "text/plain": [
       "11"
      ]
     },
     "metadata": {},
     "execution_count": 28
    }
   ],
   "source": [
    "def func1(a, b):\n",
    "    return a+b\n",
    "def func2(a, b):\n",
    "    return a*b\n",
    "def func3(f1, f2, a, b):  # f1, f2 are function\n",
    "    return(f1(a, b) + f2(a, b))\n",
    "\n",
    "func3(func1, func2, 2, 3)  # return 2+3 + 2*3 value"
   ]
  },
  {
   "source": [
    "## Lambda function"
   ],
   "cell_type": "markdown",
   "metadata": {}
  },
  {
   "cell_type": "code",
   "execution_count": 29,
   "metadata": {},
   "outputs": [
    {
     "output_type": "execute_result",
     "data": {
      "text/plain": [
       "<function __main__.<lambda>(x)>"
      ]
     },
     "metadata": {},
     "execution_count": 29
    }
   ],
   "source": [
    "lambda x: x + 1   # define the function"
   ]
  },
  {
   "cell_type": "code",
   "execution_count": 30,
   "metadata": {},
   "outputs": [
    {
     "output_type": "execute_result",
     "data": {
      "text/plain": [
       "3"
      ]
     },
     "metadata": {},
     "execution_count": 30
    }
   ],
   "source": [
    "(lambda x: x + 1)(2)  # using 2 as variable"
   ]
  },
  {
   "cell_type": "code",
   "execution_count": 31,
   "metadata": {},
   "outputs": [
    {
     "output_type": "execute_result",
     "data": {
      "text/plain": [
       "5"
      ]
     },
     "metadata": {},
     "execution_count": 31
    }
   ],
   "source": [
    "(lambda x, y: x + y)(2, 3)  # using 2 variables - no limit on variable number but only 1 expression"
   ]
  },
  {
   "cell_type": "code",
   "execution_count": 32,
   "metadata": {},
   "outputs": [
    {
     "output_type": "execute_result",
     "data": {
      "text/plain": [
       "6"
      ]
     },
     "metadata": {},
     "execution_count": 32
    }
   ],
   "source": [
    "func1 = lambda x, func: x + func(x) # using function as an argument on a lambda function\n",
    "func1(2, lambda x: x*x)  # another lambda function is used as function argument"
   ]
  },
  {
   "cell_type": "code",
   "execution_count": 33,
   "metadata": {},
   "outputs": [
    {
     "output_type": "execute_result",
     "data": {
      "text/plain": [
       "'odd'"
      ]
     },
     "metadata": {},
     "execution_count": 33
    }
   ],
   "source": [
    "(lambda x: (x % 2 and 'odd' or 'even'))(3)  # return multiple result in single expression"
   ]
  },
  {
   "cell_type": "code",
   "execution_count": 36,
   "metadata": {},
   "outputs": [
    {
     "output_type": "execute_result",
     "data": {
      "text/plain": [
       "'even'"
      ]
     },
     "metadata": {},
     "execution_count": 36
    }
   ],
   "source": [
    "False and 'odd' or 'even'  # true and false will give value after and & or"
   ]
  },
  {
   "cell_type": "code",
   "execution_count": null,
   "metadata": {},
   "outputs": [],
   "source": []
  }
 ]
}