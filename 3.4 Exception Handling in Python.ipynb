{
 "metadata": {
  "language_info": {
   "codemirror_mode": {
    "name": "ipython",
    "version": 3
   },
   "file_extension": ".py",
   "mimetype": "text/x-python",
   "name": "python",
   "nbconvert_exporter": "python",
   "pygments_lexer": "ipython3",
   "version": "3.6.6"
  },
  "orig_nbformat": 4,
  "kernelspec": {
   "name": "python3",
   "display_name": "Python 3.6.6 64-bit"
  },
  "interpreter": {
   "hash": "2e5c6628eef985e7fd2fa2aad22c988c5b8aa1d2648cf9c51c543a2a2637c546"
  }
 },
 "nbformat": 4,
 "nbformat_minor": 2,
 "cells": [
  {
   "source": [
    "# IBM Developer Skills Network"
   ],
   "cell_type": "markdown",
   "metadata": {}
  },
  {
   "source": [
    "## Exception handling"
   ],
   "cell_type": "markdown",
   "metadata": {}
  },
  {
   "cell_type": "code",
   "execution_count": 3,
   "metadata": {},
   "outputs": [
    {
     "output_type": "stream",
     "name": "stdout",
     "text": [
      "invalid input!\n"
     ]
    }
   ],
   "source": [
    "a = 1\n",
    "try:\n",
    "    b = int(input('enter a number'))\n",
    "    a = a/b\n",
    "    print('Success a=',a)\n",
    "except:\n",
    "    print('invalid input!')"
   ]
  },
  {
   "source": [
    "## Specific exception"
   ],
   "cell_type": "markdown",
   "metadata": {}
  },
  {
   "cell_type": "code",
   "execution_count": 5,
   "metadata": {},
   "outputs": [
    {
     "output_type": "stream",
     "name": "stdout",
     "text": [
      "not a number error!\n"
     ]
    }
   ],
   "source": [
    "a = 1\n",
    "try:\n",
    "    b = int(input('input a number'))\n",
    "    a = a/b\n",
    "    print('Success a=',a)\n",
    "except ZeroDivisionError:\n",
    "    print('Division by zero error!')\n",
    "except ValueError:\n",
    "    print('not a number error!')\n",
    "except:\n",
    "    print('Something is wrong!')"
   ]
  },
  {
   "source": [
    "## Else and Finally clause"
   ],
   "cell_type": "markdown",
   "metadata": {}
  },
  {
   "cell_type": "code",
   "execution_count": 7,
   "metadata": {},
   "outputs": [
    {
     "output_type": "stream",
     "name": "stdout",
     "text": [
      "Division by zero error!\nCalculation complete\n"
     ]
    }
   ],
   "source": [
    "a = 1\n",
    "try:\n",
    "    b = int(input('input a number'))\n",
    "    a = a/b\n",
    "except ZeroDivisionError:\n",
    "    print('Division by zero error!')\n",
    "except ValueError:\n",
    "    print('Not a number error!')\n",
    "except:\n",
    "    print('Something wrong!')\n",
    "else: # happens if no error\n",
    "    print('success a=',a)\n",
    "finally:  # always happens\n",
    "    print('Calculation complete')"
   ]
  },
  {
   "cell_type": "code",
   "execution_count": null,
   "metadata": {},
   "outputs": [],
   "source": []
  }
 ]
}