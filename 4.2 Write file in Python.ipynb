{
 "metadata": {
  "language_info": {
   "codemirror_mode": {
    "name": "ipython",
    "version": 3
   },
   "file_extension": ".py",
   "mimetype": "text/x-python",
   "name": "python",
   "nbconvert_exporter": "python",
   "pygments_lexer": "ipython3",
   "version": "3.6.6"
  },
  "orig_nbformat": 4,
  "kernelspec": {
   "name": "python3",
   "display_name": "Python 3.6.6 64-bit"
  },
  "interpreter": {
   "hash": "2e5c6628eef985e7fd2fa2aad22c988c5b8aa1d2648cf9c51c543a2a2637c546"
  }
 },
 "nbformat": 4,
 "nbformat_minor": 2,
 "cells": [
  {
   "source": [
    "# IBM Developer Skills Network"
   ],
   "cell_type": "markdown",
   "metadata": {}
  },
  {
   "source": [
    "## Write a file"
   ],
   "cell_type": "markdown",
   "metadata": {}
  },
  {
   "cell_type": "code",
   "execution_count": 1,
   "metadata": {},
   "outputs": [],
   "source": [
    "# Create a blank file\n",
    "filename = r'C:\\Users\\hp\\Downloads\\example2.txt'\n",
    "with open(filename, 'w') as writefile:\n",
    "    pass"
   ]
  },
  {
   "cell_type": "code",
   "execution_count": 2,
   "metadata": {},
   "outputs": [],
   "source": [
    "# write line to file\n",
    "with open(filename, 'w') as writefile:\n",
    "    writefile.write('This is line A')"
   ]
  },
  {
   "cell_type": "code",
   "execution_count": 3,
   "metadata": {},
   "outputs": [
    {
     "output_type": "stream",
     "name": "stdout",
     "text": [
      "This is line A\n"
     ]
    }
   ],
   "source": [
    "# check if it worked or not\n",
    "with open(filename, 'r') as readfile:\n",
    "    print(readfile.read())"
   ]
  },
  {
   "cell_type": "code",
   "execution_count": 4,
   "metadata": {},
   "outputs": [
    {
     "output_type": "stream",
     "name": "stdout",
     "text": [
      "This is line A\nThis is line B\n\n"
     ]
    }
   ],
   "source": [
    "# Write multiple lines\n",
    "with open(filename, 'w') as writefile:\n",
    "    writefile.write('This is line A\\n')   # overwrite the ogiginal content of this file\n",
    "    writefile.write('This is line B\\n')\n",
    "\n",
    "with open(filename, 'r') as readfile:\n",
    "    print(readfile.read())"
   ]
  },
  {
   "source": [
    "## Write file using a list"
   ],
   "cell_type": "markdown",
   "metadata": {}
  },
  {
   "cell_type": "code",
   "execution_count": 5,
   "metadata": {},
   "outputs": [
    {
     "output_type": "stream",
     "name": "stdout",
     "text": [
      "This is line A\nThis is line B\nThis is line C\n\n"
     ]
    }
   ],
   "source": [
    "lines = ['This is line A\\n', 'This is line B\\n', 'This is line C\\n']\n",
    "\n",
    "with open(filename, 'w') as writefile:\n",
    "    for line in lines:\n",
    "        writefile.write(line)\n",
    "\n",
    "with open(filename, 'r') as readfile:\n",
    "    print(readfile.read())"
   ]
  },
  {
   "source": [
    "## Appending files"
   ],
   "cell_type": "markdown",
   "metadata": {}
  },
  {
   "cell_type": "code",
   "execution_count": 6,
   "metadata": {},
   "outputs": [
    {
     "output_type": "stream",
     "name": "stdout",
     "text": [
      "This is line A\nThis is line B\nThis is line C\nThis is line C\nThis is line D\nThis is line E\n\n"
     ]
    }
   ],
   "source": [
    "# Content of file will not be overwritten\n",
    "with open(filename, 'a') as appendfile:\n",
    "    appendfile.write('This is line C\\n')\n",
    "    appendfile.write('This is line D\\n')\n",
    "    appendfile.write('This is line E\\n')\n",
    "\n",
    "with open(filename, 'r') as readfile:\n",
    "    print(readfile.read())"
   ]
  },
  {
   "source": [
    "## Additional modes"
   ],
   "cell_type": "markdown",
   "metadata": {}
  },
  {
   "cell_type": "code",
   "execution_count": 8,
   "metadata": {},
   "outputs": [
    {
     "output_type": "stream",
     "name": "stdout",
     "text": [
      "\n"
     ]
    }
   ],
   "source": [
    "# a+: appending and reading\n",
    "with open(filename, 'a+') as appfile:\n",
    "    appfile.write('This is line F\\n')\n",
    "    print(appfile.read())   # can not print anything because cursor position is at the end of file"
   ]
  },
  {
   "cell_type": "code",
   "execution_count": 12,
   "metadata": {},
   "outputs": [
    {
     "output_type": "stream",
     "name": "stdout",
     "text": [
      "Initial Location: 128\nRead nothing\n\nNew Location : 0\nThis is line A\nThis is line B\nThis is line C\nThis is line C\nThis is line D\nThis is line E\nThis is line F\nThis is line F\n\n\nLocation after read : 128\n"
     ]
    }
   ],
   "source": [
    "# Change cursor to start of file to read\n",
    "with open(filename, 'a+') as appfile:\n",
    "    print(\"Initial Location: {}\".format(appfile.tell()))\n",
    "\n",
    "    data = appfile.read()\n",
    "    if (not data) : # empty string return false in python\n",
    "        print('Read nothing')\n",
    "    else:\n",
    "        print(appfile.read())\n",
    "    \n",
    "    appfile.seek(0,0)  # move to 1st position\n",
    "    print(\"\\nNew Location : {}\".format(appfile.tell()))\n",
    "\n",
    "    data = appfile.read()\n",
    "    if (not data) : # empty string return false in python\n",
    "        print('Read nothing')\n",
    "    else:\n",
    "        print(data)\n",
    "    \n",
    "    print(\"\\nLocation after read : {}\".format(appfile.tell()))"
   ]
  },
  {
   "source": [
    "## Using r+ mode"
   ],
   "cell_type": "markdown",
   "metadata": {}
  },
  {
   "cell_type": "code",
   "execution_count": 13,
   "metadata": {},
   "outputs": [
    {
     "output_type": "stream",
     "name": "stdout",
     "text": [
      "Line 1\nLine 2\nLine 3\nFinished\n\n"
     ]
    }
   ],
   "source": [
    "with open(filename, 'r+') as readfile:  # read and write file, not overwrite original file\n",
    "    data = readfile.readlines()\n",
    "    readfile.seek(0,0) # write at beginning of file\n",
    "\n",
    "    readfile.write('Line 1' + '\\n')\n",
    "    readfile.write('Line 2' + '\\n')\n",
    "    readfile.write('Line 3' + '\\n')\n",
    "    readfile.write('Finished' + '\\n')\n",
    "\n",
    "    readfile.truncate() # delete everything after final writing line\n",
    "    readfile.seek(0,0)\n",
    "    print(readfile.read())"
   ]
  },
  {
   "source": [
    "## Copy a file"
   ],
   "cell_type": "markdown",
   "metadata": {}
  },
  {
   "cell_type": "code",
   "execution_count": 14,
   "metadata": {},
   "outputs": [
    {
     "output_type": "stream",
     "name": "stdout",
     "text": [
      "Line 1\nLine 2\nLine 3\nFinished\n\n"
     ]
    }
   ],
   "source": [
    "copyfile = r'C:\\Users\\hp\\Downloads\\example3.txt'\n",
    "with open(filename, 'r') as readfile:\n",
    "    with open(copyfile, 'w') as writefile:\n",
    "        for line in readfile:\n",
    "            writefile.write(line)\n",
    "\n",
    "with open(copyfile, 'r') as readfile:\n",
    "    print(readfile.read())"
   ]
  },
  {
   "source": [
    "## Read write file sample"
   ],
   "cell_type": "markdown",
   "metadata": {}
  },
  {
   "cell_type": "code",
   "execution_count": 16,
   "metadata": {},
   "outputs": [],
   "source": [
    "# generate the file\n",
    "from random import randint as rnd\n",
    "\n",
    "memReg = r'C:\\Users\\hp\\Downloads\\members.txt'\n",
    "exReg = r'C:\\Users\\hp\\Downloads\\inactive.txt'\n",
    "fee =('yes','no')\n",
    "\n",
    "def genFiles(current,old):\n",
    "    with open(current,'w+') as writefile: \n",
    "        writefile.write('Membership No  Date Joined  Active  \\n')\n",
    "        data = \"{:^13}  {:<11}  {:<6}\\n\"\n",
    "\n",
    "        for rowno in range(20):\n",
    "            date = str(rnd(2015,2020))+ '-' + str(rnd(1,12))+'-'+str(rnd(1,25))\n",
    "            writefile.write(data.format(rnd(10000,99999),date,fee[rnd(0,1)]))\n",
    "\n",
    "\n",
    "    with open(old,'w+') as writefile: \n",
    "        writefile.write('Membership No  Date Joined  Active  \\n')\n",
    "        data = \"{:^13}  {:<11}  {:<6}\\n\"\n",
    "        for rowno in range(3):\n",
    "            date = str(rnd(2015,2020))+ '-' + str(rnd(1,12))+'-'+str(rnd(1,25))\n",
    "            writefile.write(data.format(rnd(10000,99999),date,fee[1]))\n",
    "\n",
    "\n",
    "genFiles(memReg,exReg)"
   ]
  },
  {
   "cell_type": "code",
   "execution_count": 18,
   "metadata": {},
   "outputs": [
    {
     "output_type": "stream",
     "name": "stdout",
     "text": [
      "Active Members: \n\n\nMembership No  Date Joined  Active  \n    81515      2015-12-22   yes   \n    78861      2020-2-8     yes   \n    62041      2018-12-15   yes   \n    23997      2015-3-14    yes   \n    79876      2017-10-8    yes   \n    15758      2019-12-10   yes   \n    86820      2017-7-20    yes   \n\nInactive Members: \n\n\nMembership No  Date Joined  Active  \n    79287      2016-3-15    no    \n    31863      2015-10-3    no    \n    48380      2019-10-2    no    \n    54274      2016-9-6     no    \n    95148      2019-11-14   no    \n    37337      2016-3-24    no    \n    78680      2018-10-22   no    \n    39395      2020-7-2     no    \n    21071      2017-9-1     no    \n    58308      2016-9-9     no    \n    45517      2019-7-20    no    \n    62930      2020-10-7    no    \n    50350      2019-2-21    no    \n    33805      2017-7-11    no    \n    76418      2020-8-8     no    \n    96963      2015-8-1     no    \n\n"
     ]
    }
   ],
   "source": [
    "def cleanFiles(currentMem,exMem):\n",
    "    with open(currentMem,'r+') as writeFile: \n",
    "        with open(exMem,'a+') as appendFile:\n",
    "            #get the data\n",
    "            writeFile.seek(0)\n",
    "            members = writeFile.readlines()\n",
    "            #remove header\n",
    "            header = members[0]\n",
    "            members.pop(0)\n",
    "                \n",
    "            inactive = [member for member in members if ('no' in member)]\n",
    "            '''\n",
    "            The above is the same as \n",
    "\n",
    "            for member in active:\n",
    "            if 'no' in member:\n",
    "                inactive.append(member)\n",
    "            '''\n",
    "            #go to the beginning of the write file\n",
    "            writeFile.seek(0) \n",
    "            writeFile.write(header)\n",
    "            for member in members:\n",
    "                if (member in inactive):\n",
    "                    appendFile.write(member)\n",
    "                else:\n",
    "                    writeFile.write(member)      \n",
    "            writeFile.truncate()\n",
    "                \n",
    "memReg = r'C:\\Users\\hp\\Downloads\\members.txt'\n",
    "exReg = r'C:\\Users\\hp\\Downloads\\inactive.txt'\n",
    "cleanFiles(memReg,exReg)\n",
    "\n",
    "# code to help you see the files\n",
    "\n",
    "headers = \"Membership No  Date Joined  Active  \\n\"\n",
    "\n",
    "with open(memReg,'r') as readFile:\n",
    "    print(\"Active Members: \\n\\n\")\n",
    "    print(readFile.read())\n",
    "    \n",
    "with open(exReg,'r') as readFile:\n",
    "    print(\"Inactive Members: \\n\\n\")\n",
    "    print(readFile.read())\n",
    "    "
   ]
  },
  {
   "cell_type": "code",
   "execution_count": null,
   "metadata": {},
   "outputs": [],
   "source": []
  }
 ]
}